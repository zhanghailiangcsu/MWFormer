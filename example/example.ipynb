{
 "cells": [
  {
   "cell_type": "markdown",
   "id": "1addf131",
   "metadata": {},
   "source": [
    "# Import necessary packages"
   ]
  },
  {
   "cell_type": "code",
   "execution_count": 6,
   "id": "1de49c0d",
   "metadata": {},
   "outputs": [],
   "source": [
    "import os\n",
    "os.chdir('E:/github/MWFormer')\n",
    "from data.Data import DataTran\n",
    "from model.TrainModel import Predict,dataset_sep\n",
    "from data.Data import LengthFilter,GetWeight,Pad_data\n",
    "import torch\n",
    "import pickle\n",
    "from model.Model import MWFormer\n",
    "from data.utils import PlotResults,PredIndependent,CalWeights\n",
    "import numpy as np\n",
    "import pandas as pd"
   ]
  },
  {
   "cell_type": "markdown",
   "id": "0d2befbc",
   "metadata": {},
   "source": [
    "# Load model\n"
   ]
  },
  {
   "cell_type": "code",
   "execution_count": 2,
   "id": "14f31733",
   "metadata": {},
   "outputs": [
    {
     "data": {
      "text/plain": [
       "<All keys matched successfully>"
      ]
     },
     "execution_count": 2,
     "metadata": {},
     "output_type": "execute_result"
    }
   ],
   "source": [
    "batch_size = 32\n",
    "lr = 5e-4\n",
    "epochs = 10\n",
    "vocab_size = 1000\n",
    "hidden = 256 \n",
    "n_layers = 6\n",
    "attn_heads = 8\n",
    "dropout = 0\n",
    "maxlen = 1000\n",
    "\n",
    "model_file = 'model/model.pkl'\n",
    "model = MWFormer(vocab_size,hidden, n_layers, attn_heads, dropout)\n",
    "model.load_state_dict(torch.load(model_file))"
   ]
  },
  {
   "cell_type": "markdown",
   "id": "616ba939",
   "metadata": {},
   "source": [
    "# Load data"
   ]
  },
  {
   "cell_type": "code",
   "execution_count": 3,
   "id": "8402cc0f",
   "metadata": {},
   "outputs": [],
   "source": [
    "independent_file = 'EIMSdata/test_11499.csv'\n",
    "independent_data = pd.read_csv(independent_file)"
   ]
  },
  {
   "cell_type": "markdown",
   "id": "ed05d127",
   "metadata": {},
   "source": [
    "# Using the WeightFormer model to predict"
   ]
  },
  {
   "cell_type": "code",
   "execution_count": 4,
   "id": "b6083c5b",
   "metadata": {},
   "outputs": [
    {
     "name": "stderr",
     "output_type": "stream",
     "text": [
      "100%|██████████████████████████████████████████████████████████████████████████| 11499/11499 [00:08<00:00, 1429.09it/s]\n",
      " 52%|██████████████████████████████████████▍                                   | 5968/11499 [00:00<00:00, 13281.22it/s][17:16:46] Conflicting single bond directions around double bond at index 1.\n",
      "[17:16:46]   BondStereo set to STEREONONE and single bond directions set to NONE.\n",
      " 63%|██████████████████████████████████████████████▉                           | 7301/11499 [00:00<00:00, 12385.83it/s][17:16:46] Conflicting single bond directions around double bond at index 4.\n",
      "[17:16:46]   BondStereo set to STEREONONE and single bond directions set to NONE.\n",
      "100%|█████████████████████████████████████████████████████████████████████████| 11499/11499 [00:00<00:00, 11553.37it/s]\n",
      "100%|█████████████████████████████████████████████████████████████████████████| 11499/11499 [00:00<00:00, 65325.01it/s]\n",
      "360it [01:14,  4.84it/s]\n"
     ]
    }
   ],
   "source": [
    "smiles_i,true_weights_i,predict_weights_i = PredIndependent(model,independent_data,batch_size,maxlen)"
   ]
  },
  {
   "cell_type": "markdown",
   "id": "0d856210",
   "metadata": {},
   "source": [
    "# Calculate evaluation indicators"
   ]
  },
  {
   "cell_type": "code",
   "execution_count": 7,
   "id": "f9f941f4",
   "metadata": {},
   "outputs": [
    {
     "name": "stdout",
     "output_type": "stream",
     "text": [
      "26.536125 17.765781\n"
     ]
    }
   ],
   "source": [
    "rmse_i,mae_i = CalWeights(true_weights_i,predict_weights_i)\n",
    "print(rmse_i,mae_i)"
   ]
  },
  {
   "cell_type": "markdown",
   "id": "94eceae8",
   "metadata": {},
   "source": [
    "# Plot results"
   ]
  },
  {
   "cell_type": "code",
   "execution_count": 8,
   "id": "c19be6c2",
   "metadata": {},
   "outputs": [
    {
     "data": {
      "image/png": "[encoded data removed]",
      "text/plain": [
       "<Figure size 432x288 with 1 Axes>"
      ]
     },
     "metadata": {
      "needs_background": "light"
     },
     "output_type": "display_data"
    }
   ],
   "source": [
    "PlotResults(true_weights_i,predict_weights_i,'Independent data')"
   ]
  },
  {
   "cell_type": "markdown",
   "id": "4b015d74",
   "metadata": {},
   "source": [
    "# Tip: Both the model and sample data are stored in the release. First, you should download the model and data from the release, and then place the model in the model folder and the data in the EIMSdata folder"
   ]
  },
  {
   "cell_type": "code",
   "execution_count": null,
   "id": "4ab9eadc",
   "metadata": {},
   "outputs": [],
   "source": []
  }
 ],
 "metadata": {
  "kernelspec": {
   "display_name": "Python 3 (ipykernel)",
   "language": "python",
   "name": "python3"
  },
  "language_info": {
   "codemirror_mode": {
    "name": "ipython",
    "version": 3
   },
   "file_extension": ".py",
   "mimetype": "text/x-python",
   "name": "python",
   "nbconvert_exporter": "python",
   "pygments_lexer": "ipython3",
   "version": "3.9.12"
  }
 },
 "nbformat": 4,
 "nbformat_minor": 5
}
